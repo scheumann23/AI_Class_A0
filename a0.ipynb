{
 "cells": [
  {
   "cell_type": "code",
   "execution_count": 2,
   "metadata": {},
   "outputs": [],
   "source": [
    "import sys\n",
    "import json"
   ]
  },
  {
   "cell_type": "code",
   "execution_count": 3,
   "metadata": {},
   "outputs": [],
   "source": [
    "# Parse the map from a given filename\n",
    "def parse_map(filename):\n",
    "        with open(filename, \"r\") as f:\n",
    "                return [[char for char in line] for line in f.read().rstrip(\"\\n\").split(\"\\n\")]"
   ]
  },
  {
   "cell_type": "code",
   "execution_count": 4,
   "metadata": {},
   "outputs": [],
   "source": [
    "# Check if a row,col index pair is on the map\n",
    "def valid_index(pos, n, m):\n",
    "        return 0 <= pos[0] < n  and 0 <= pos[1] < m"
   ]
  },
  {
   "cell_type": "code",
   "execution_count": 5,
   "metadata": {},
   "outputs": [],
   "source": [
    "# Find the possible moves from position (row, col)\n",
    "def moves(map, row, col, visits):\n",
    "        moves=((row+1,col), (row-1,col), (row,col-1), (row,col+1))\n",
    "\n",
    "\t# Return only moves that are within the board and legal (i.e. go through open space \".\")\n",
    "        return [ move for move in moves if valid_index(move, len(map), len(map[0])) \n",
    "                                        and (map[move[0]][move[1]] in \".@\" ) \n",
    "                                        and (move not in visits)]"
   ]
  },
  {
   "cell_type": "code",
   "execution_count": 6,
   "metadata": {},
   "outputs": [],
   "source": [
    "def euclid_dist(current_state, target_state):\n",
    "    return ((current_state[0] - target_state[0])**2 + (current_state[1] - target_state[1])**2)**0.5"
   ]
  },
  {
   "cell_type": "code",
   "execution_count": 48,
   "metadata": {},
   "outputs": [],
   "source": [
    "def priority_pop(fringe):\n",
    "    min = fringe[0][3]\n",
    "    index = 0 \n",
    "    for i in range(len(fringe)):\n",
    "        if fringe[i][3] < min:\n",
    "            max = fringe[i][3]\n",
    "            index = i\n",
    "    return fringe.pop(index)\n"
   ]
  },
  {
   "cell_type": "code",
   "execution_count": 53,
   "metadata": {},
   "outputs": [],
   "source": [
    "# Perform search on the map\n",
    "def search1(house_map):\n",
    "        # Find pichu start position\n",
    "        pichu_loc=[(row_i,col_i) for col_i in range(len(house_map[0])) for row_i in range(len(house_map)) if house_map[row_i][col_i]==\"p\"][0]\n",
    "        # Find target position (need it to compute heuristic)\n",
    "        target_loc=[(row_i,col_i) for col_i in range(len(house_map[0])) for row_i in range(len(house_map)) if house_map[row_i][col_i]==\"@\"][0]\n",
    "        # Find measure of herutstic to target\n",
    "        heuristic = euclid_dist(pichu_loc, target_loc)\n",
    "        \n",
    "        fringe=[(pichu_loc,0,'',heuristic)]\n",
    "        visited = []\n",
    "\n",
    "        while fringe:\n",
    "                (curr_move, curr_dist, curr_dir, curr_cost)=priority_pop(fringe)\n",
    "                print(curr_move, fringe)\n",
    "                for move in moves(house_map, *curr_move, visited):\n",
    "                    if house_map[move[0]][move[1]]==\"@\":\n",
    "                        return curr_dist+1, curr_dir\n",
    "                    else:\n",
    "                        fringe.append((move, curr_dist + 1, 'N', euclid_dist(move, target_loc)+curr_dist))\n",
    "                    visited.append(move)\n",
    "        return 'Inf'"
   ]
  },
  {
   "cell_type": "code",
   "execution_count": 8,
   "metadata": {},
   "outputs": [],
   "source": [
    "house_map = parse_map('map.txt')"
   ]
  },
  {
   "cell_type": "code",
   "execution_count": 9,
   "metadata": {},
   "outputs": [
    {
     "output_type": "execute_result",
     "data": {
      "text/plain": "[['.', '.', '.', '.', 'X', 'X', 'X'],\n ['.', 'X', 'X', 'X', '.', '.', '.'],\n ['.', '.', '.', '.', 'X', '.', '.'],\n ['.', 'X', '.', 'X', '.', '.', '.'],\n ['.', 'X', '.', 'X', '.', 'X', '.'],\n ['p', 'X', '.', '.', '.', 'X', '@']]"
     },
     "metadata": {},
     "execution_count": 9
    }
   ],
   "source": [
    "house_map"
   ]
  },
  {
   "cell_type": "code",
   "execution_count": 54,
   "metadata": {
    "tags": []
   },
   "outputs": [
    {
     "output_type": "stream",
     "name": "stdout",
     "text": "(5, 0) []\n(4, 0) []\n(3, 0) []\n(2, 0) []\n(2, 1) [((1, 0), 4, 'N', 10.21110255092798)]\n(2, 2) [((1, 0), 4, 'N', 10.21110255092798)]\n(2, 3) [((1, 0), 4, 'N', 10.21110255092798), ((3, 2), 6, 'N', 9.47213595499958)]\n(3, 2) [((1, 0), 4, 'N', 10.21110255092798)]\n(4, 2) [((1, 0), 4, 'N', 10.21110255092798)]\n(1, 0) [((5, 2), 8, 'N', 11.0)]\n(5, 2) [((0, 0), 5, 'N', 11.810249675906654)]\n(5, 3) [((0, 0), 5, 'N', 11.810249675906654)]\n(5, 4) [((0, 0), 5, 'N', 11.810249675906654)]\n(0, 0) [((4, 4), 11, 'N', 12.23606797749979)]\n(0, 1) [((4, 4), 11, 'N', 12.23606797749979)]\n(4, 4) [((0, 2), 7, 'N', 12.403124237432849)]\n(0, 2) [((3, 4), 12, 'N', 13.82842712474619)]\n(0, 3) [((3, 4), 12, 'N', 13.82842712474619)]\n(3, 4) []\n(3, 5) []\n(3, 6) [((2, 5), 14, 'N', 16.162277660168378)]\n(4, 6) [((2, 5), 14, 'N', 16.162277660168378), ((2, 6), 15, 'N', 17.0)]\n"
    },
    {
     "output_type": "execute_result",
     "data": {
      "text/plain": "(16, 'N')"
     },
     "metadata": {},
     "execution_count": 54
    }
   ],
   "source": [
    "search1(house_map)"
   ]
  },
  {
   "cell_type": "code",
   "execution_count": null,
   "metadata": {},
   "outputs": [],
   "source": [
    "euclid_dist((3,0),(5,6))"
   ]
  },
  {
   "cell_type": "code",
   "execution_count": 36,
   "metadata": {},
   "outputs": [],
   "source": [
    "a = [((5,0),0,6,'',6), ((4,0),1,6.3,'N',7.3), ((7,1),3,1,'NEN',4), ((10,1),3,1,'NENE',49)]"
   ]
  },
  {
   "cell_type": "code",
   "execution_count": 37,
   "metadata": {},
   "outputs": [
    {
     "output_type": "execute_result",
     "data": {
      "text/plain": "((7, 1), 3, 1, 'NEN', 4)"
     },
     "metadata": {},
     "execution_count": 37
    }
   ],
   "source": [
    "\n",
    "priority_pop(a)"
   ]
  },
  {
   "cell_type": "code",
   "execution_count": 38,
   "metadata": {},
   "outputs": [
    {
     "output_type": "execute_result",
     "data": {
      "text/plain": "[((5, 0), 0, 6, '', 6),\n ((4, 0), 1, 6.3, 'N', 7.3),\n ((10, 1), 3, 1, 'NENE', 49)]"
     },
     "metadata": {},
     "execution_count": 38
    }
   ],
   "source": [
    "a"
   ]
  },
  {
   "cell_type": "code",
   "execution_count": null,
   "metadata": {},
   "outputs": [],
   "source": []
  }
 ],
 "metadata": {
  "kernelspec": {
   "display_name": "Python 3.7.7 64-bit ('AI_Class': conda)",
   "language": "python",
   "name": "python_defaultSpec_1599527034032"
  },
  "language_info": {
   "codemirror_mode": {
    "name": "ipython",
    "version": 3
   },
   "file_extension": ".py",
   "mimetype": "text/x-python",
   "name": "python",
   "nbconvert_exporter": "python",
   "pygments_lexer": "ipython3",
   "version": "3.7.7-final"
  }
 },
 "nbformat": 4,
 "nbformat_minor": 4
}