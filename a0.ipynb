{
 "cells": [
  {
   "cell_type": "code",
   "execution_count": 1,
   "metadata": {},
   "outputs": [],
   "source": [
    "import sys\n",
    "import json"
   ]
  },
  {
   "cell_type": "code",
   "execution_count": 2,
   "metadata": {},
   "outputs": [],
   "source": [
    "# Parse the map from a given filename\n",
    "def parse_map(filename):\n",
    "        with open(filename, \"r\") as f:\n",
    "                return [[char for char in line] for line in f.read().rstrip(\"\\n\").split(\"\\n\")]"
   ]
  },
  {
   "cell_type": "code",
   "execution_count": 3,
   "metadata": {},
   "outputs": [],
   "source": [
    "# Check if a row,col index pair is on the map\n",
    "def valid_index(pos, n, m):\n",
    "        return 0 <= pos[0] < n  and 0 <= pos[1] < m"
   ]
  },
  {
   "cell_type": "code",
   "execution_count": 4,
   "metadata": {},
   "outputs": [],
   "source": [
    "# Find the possible moves from position (row, col)\n",
    "def moves(map, row, col, visits):\n",
    "        moves=((row+1,col), (row-1,col), (row,col-1), (row,col+1))\n",
    "\n",
    "\t# Return only moves that are within the board and legal (i.e. go through open space \".\")\n",
    "        return [ move for move in moves if valid_index(move, len(map), len(map[0])) \n",
    "                                        and (map[move[0]][move[1]] in \".@\" ) \n",
    "                                        and (move not in visits)]"
   ]
  },
  {
   "cell_type": "code",
   "execution_count": 5,
   "metadata": {},
   "outputs": [],
   "source": [
    "def euclid_dist(current_state, target_state):\n",
    "    return ((current_state[0] - target_state[0])**2 + (current_state[1] - target_state[1])**2)**0.5"
   ]
  },
  {
   "cell_type": "code",
   "execution_count": 6,
   "metadata": {},
   "outputs": [],
   "source": [
    "def priority_pop(fringe):\n",
    "    min = fringe[0][3]\n",
    "    index = 0 \n",
    "    for i in range(len(fringe)):\n",
    "        if fringe[i][3] < min:\n",
    "            min = fringe[i][3]\n",
    "            index = i\n",
    "    return fringe.pop(index)\n"
   ]
  },
  {
   "cell_type": "code",
   "execution_count": 11,
   "metadata": {},
   "outputs": [],
   "source": [
    "def get_direction(last_move, curr_move):\n",
    "    if last_move[0] - curr_move[0] == 1:\n",
    "        return \"N\"\n",
    "    elif last_move[0] - curr_move[0] == -1:\n",
    "        return \"S\"\n",
    "    elif last_move[1] - curr_move[1] == 1:\n",
    "        return \"W\"\n",
    "    elif last_move[1] - curr_move[1] == -1:\n",
    "        return \"E\""
   ]
  },
  {
   "cell_type": "code",
   "execution_count": 28,
   "metadata": {},
   "outputs": [],
   "source": [
    "# Perform search on the map\n",
    "def search1(house_map):\n",
    "        # Find pichu start position\n",
    "        pichu_loc=[(row_i,col_i) for col_i in range(len(house_map[0])) for row_i in range(len(house_map)) if house_map[row_i][col_i]==\"p\"][0]\n",
    "        # Find target position (need it to compute heuristic)\n",
    "        target_loc=[(row_i,col_i) for col_i in range(len(house_map[0])) for row_i in range(len(house_map)) if house_map[row_i][col_i]==\"@\"][0]\n",
    "        # Find measure of herutstic to target\n",
    "        heuristic = euclid_dist(pichu_loc, target_loc)\n",
    "        \n",
    "        fringe=[(pichu_loc,0,'',heuristic)]\n",
    "        visited = []\n",
    "\n",
    "        while fringe:\n",
    "            (curr_move, curr_dist, curr_dir, curr_cost)=priority_pop(fringe)\n",
    "            for move in moves(house_map, *curr_move, visited):\n",
    "                if house_map[move[0]][move[1]]==\"@\":\n",
    "                    return curr_dist+1, curr_dir + get_direction(curr_move, move)\n",
    "                else:\n",
    "                    fringe.append((move, curr_dist + 1, curr_dir + get_direction(curr_move, move), euclid_dist(move, target_loc)+curr_dist + 1))\n",
    "                visited.append(move)\n",
    "        return 'Inf'"
   ]
  },
  {
   "cell_type": "code",
   "execution_count": 33,
   "metadata": {},
   "outputs": [],
   "source": [
    "house_map = parse_map('map2.txt')"
   ]
  },
  {
   "cell_type": "code",
   "execution_count": 34,
   "metadata": {},
   "outputs": [
    {
     "output_type": "execute_result",
     "data": {
      "text/plain": "[['.', '.', '.', '.', 'X', 'X', 'X'],\n ['.', 'X', 'X', 'X', '.', '.', '.'],\n ['.', '.', '.', '.', 'X', '.', '.'],\n ['.', 'X', '.', 'X', '.', '.', '.'],\n ['.', 'X', '.', 'X', '.', 'X', '.'],\n ['p', 'X', '.', 'X', '@', 'X', '.']]"
     },
     "metadata": {},
     "execution_count": 34
    }
   ],
   "source": [
    "house_map"
   ]
  },
  {
   "cell_type": "code",
   "execution_count": 35,
   "metadata": {
    "tags": []
   },
   "outputs": [
    {
     "output_type": "execute_result",
     "data": {
      "text/plain": "'Inf'"
     },
     "metadata": {},
     "execution_count": 35
    }
   ],
   "source": [
    "search1(house_map)"
   ]
  },
  {
   "cell_type": "code",
   "execution_count": null,
   "metadata": {},
   "outputs": [],
   "source": []
  }
 ],
 "metadata": {
  "kernelspec": {
   "display_name": "Python 3.7.7 64-bit ('AI_Class': conda)",
   "language": "python",
   "name": "python_defaultSpec_1599603423174"
  },
  "language_info": {
   "codemirror_mode": {
    "name": "ipython",
    "version": 3
   },
   "file_extension": ".py",
   "mimetype": "text/x-python",
   "name": "python",
   "nbconvert_exporter": "python",
   "pygments_lexer": "ipython3",
   "version": "3.7.7-final"
  }
 },
 "nbformat": 4,
 "nbformat_minor": 4
}