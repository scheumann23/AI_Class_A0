{
 "cells": [
  {
   "cell_type": "code",
   "execution_count": 2,
   "metadata": {},
   "outputs": [],
   "source": [
    "import sys\n",
    "import json"
   ]
  },
  {
   "cell_type": "code",
   "execution_count": 25,
   "metadata": {},
   "outputs": [],
   "source": [
    "# Parse the map from a given filename\n",
    "def parse_map(filename):\n",
    "        with open(filename, \"r\") as f:\n",
    "                return [[char for char in line] for line in f.read().rstrip(\"\\n\").split(\"\\n\")]"
   ]
  },
  {
   "cell_type": "code",
   "execution_count": 26,
   "metadata": {},
   "outputs": [],
   "source": [
    "# Check if a row,col index pair is on the map\n",
    "def valid_index(pos, n, m):\n",
    "        return 0 <= pos[0] < n  and 0 <= pos[1] < m"
   ]
  },
  {
   "cell_type": "code",
   "execution_count": 5,
   "metadata": {},
   "outputs": [],
   "source": [
    "# Find the possible moves from position (row, col)\n",
    "def moves(map, row, col, visits):\n",
    "        moves=((row+1,col), (row-1,col), (row,col-1), (row,col+1))\n",
    "\n",
    "\t# Return only moves that are within the board and legal (i.e. go through open space \".\")\n",
    "        return [ move for move in moves if valid_index(move, len(map), len(map[0])) \n",
    "                                        and (map[move[0]][move[1]] in \".@\" ) \n",
    "                                        and (move not in visits)]"
   ]
  },
  {
   "cell_type": "code",
   "execution_count": 6,
   "metadata": {},
   "outputs": [],
   "source": [
    "def euclid_dist(current_state, target_state):\n",
    "    return ((current_state[0] - target_state[0])**2 + (current_state[1] - target_state[1])**2)**0.5"
   ]
  },
  {
   "cell_type": "code",
   "execution_count": 7,
   "metadata": {},
   "outputs": [],
   "source": [
    "def priority_pop(fringe):\n",
    "    min = fringe[0][3]\n",
    "    index = 0 \n",
    "    for i in range(len(fringe)):\n",
    "        if fringe[i][3] < min:\n",
    "            min = fringe[i][3]\n",
    "            index = i\n",
    "    return fringe.pop(index)\n"
   ]
  },
  {
   "cell_type": "code",
   "execution_count": 8,
   "metadata": {},
   "outputs": [],
   "source": [
    "def get_direction(last_move, curr_move):\n",
    "    if last_move[0] - curr_move[0] == 1:\n",
    "        return \"N\"\n",
    "    elif last_move[0] - curr_move[0] == -1:\n",
    "        return \"S\"\n",
    "    elif last_move[1] - curr_move[1] == 1:\n",
    "        return \"W\"\n",
    "    elif last_move[1] - curr_move[1] == -1:\n",
    "        return \"E\""
   ]
  },
  {
   "cell_type": "code",
   "execution_count": 9,
   "metadata": {},
   "outputs": [],
   "source": [
    "# Perform search on the map\n",
    "def search1(house_map):\n",
    "        # Find pichu start position\n",
    "        pichu_loc=[(row_i,col_i) for col_i in range(len(house_map[0])) for row_i in range(len(house_map)) if house_map[row_i][col_i]==\"p\"][0]\n",
    "        # Find target position (need it to compute heuristic)\n",
    "        target_loc=[(row_i,col_i) for col_i in range(len(house_map[0])) for row_i in range(len(house_map)) if house_map[row_i][col_i]==\"@\"][0]\n",
    "        # Find measure of herutstic to target\n",
    "        heuristic = euclid_dist(pichu_loc, target_loc)\n",
    "        \n",
    "        fringe=[(pichu_loc,0,'',heuristic)]\n",
    "        visited = []\n",
    "\n",
    "        while fringe:\n",
    "            (curr_move, curr_dist, curr_dir, curr_cost)=priority_pop(fringe)\n",
    "            for move in moves(house_map, *curr_move, visited):\n",
    "                if house_map[move[0]][move[1]]==\"@\":\n",
    "                    return curr_dist+1, curr_dir + get_direction(curr_move, move)\n",
    "                else:\n",
    "                    fringe.append((move, curr_dist + 1, curr_dir + get_direction(curr_move, move), euclid_dist(move, target_loc)+curr_dist + 1))\n",
    "                visited.append(move)\n",
    "        return 'Inf'"
   ]
  },
  {
   "cell_type": "code",
   "execution_count": 10,
   "metadata": {},
   "outputs": [],
   "source": [
    "house_map = parse_map('map2.txt')"
   ]
  },
  {
   "cell_type": "code",
   "execution_count": 11,
   "metadata": {},
   "outputs": [
    {
     "output_type": "execute_result",
     "data": {
      "text/plain": "[['.', '.', '.', '.', 'X', 'X', 'X'],\n ['.', 'X', 'X', 'X', '.', '.', '.'],\n ['.', '.', '.', '.', 'X', '.', '.'],\n ['.', 'X', '.', 'X', '.', '.', '.'],\n ['.', 'X', '.', 'X', '.', 'X', '.'],\n ['p', 'X', '.', 'X', '@', 'X', '.']]"
     },
     "metadata": {},
     "execution_count": 11
    }
   ],
   "source": [
    "house_map"
   ]
  },
  {
   "cell_type": "code",
   "execution_count": 12,
   "metadata": {
    "tags": []
   },
   "outputs": [
    {
     "output_type": "execute_result",
     "data": {
      "text/plain": "'Inf'"
     },
     "metadata": {},
     "execution_count": 12
    }
   ],
   "source": [
    "search1(house_map)"
   ]
  },
  {
   "cell_type": "markdown",
   "metadata": {},
   "source": [
    "## Part 2: Hide and Seek"
   ]
  },
  {
   "cell_type": "code",
   "execution_count": 66,
   "metadata": {},
   "outputs": [],
   "source": [
    "# Parse the map from a given filename\n",
    "def parse_map(filename):\n",
    "\twith open(filename, \"r\") as f:\n",
    "\t\treturn [[char for char in line] for line in f.read().rstrip(\"\\n\").split(\"\\n\")]"
   ]
  },
  {
   "cell_type": "code",
   "execution_count": 67,
   "metadata": {},
   "outputs": [],
   "source": [
    "# Count total # of pichus on board\n",
    "def count_pichus(board):\n",
    "    return sum([ row.count('p') for row in board ] )"
   ]
  },
  {
   "cell_type": "code",
   "execution_count": 68,
   "metadata": {},
   "outputs": [],
   "source": [
    "# Return a string with the board rendered in a human-pichuly format\n",
    "def printable_board(board):\n",
    "    return \"\\n\".join([ \"\".join(row) for row in board])"
   ]
  },
  {
   "cell_type": "code",
   "execution_count": 69,
   "metadata": {},
   "outputs": [],
   "source": [
    "# Add a pichu to the board at the given position, and return a new board (doesn't change original)\n",
    "def add_pichu(board, row, col):\n",
    "    return board[0:row] + [board[row][0:col] + ['p',] + board[row][col+1:]] + board[row+1:]"
   ]
  },
  {
   "cell_type": "code",
   "execution_count": 70,
   "metadata": {},
   "outputs": [],
   "source": [
    "# Get list of successors of given board state\n",
    "def successors(board):\n",
    "    return [add_pichu(board, r, c) for r in range(0, len(board)) for c in range(0,len(board[0])) if (board[r][c] == '.')\n",
    "                                                                                                 and(valid_spot(board, r, c))]"
   ]
  },
  {
   "cell_type": "code",
   "execution_count": 71,
   "metadata": {},
   "outputs": [],
   "source": [
    "# Get list of successors of given board state\n",
    "def super_successors(board):\n",
    "    return [add_pichu(board, r, c) for r in range(0, len(board)) for c in range(0,len(board[0])) if (board[r][c] == '.')\n",
    "                                                                                                 and(super_valid_spot(board, r, c))]"
   ]
  },
  {
   "cell_type": "code",
   "execution_count": 72,
   "metadata": {},
   "outputs": [],
   "source": [
    "#check if you can see a pichu from a given spot\n",
    "def valid_spot(board, row, col):\n",
    "    #check left\n",
    "    c = col\n",
    "    while c >= 0:\n",
    "        if board[row][c]=='.':\n",
    "            c += -1\n",
    "        elif board[row][c]=='X' or board[row][c]=='@':\n",
    "            c = -1\n",
    "        else:\n",
    "            return False\n",
    "    #check right\n",
    "    c = col\n",
    "    while c < len(board[row]):\n",
    "        if board[row][c]=='.': \n",
    "            c += 1\n",
    "        elif board[row][c]=='X' or board[row][c]=='@':\n",
    "            c = len(board[row])\n",
    "        else:\n",
    "            return False\n",
    "    #check up\n",
    "    r = row\n",
    "    while r >= 0:\n",
    "        if board[r][col]=='.': \n",
    "            r += -1\n",
    "        elif board[r][col]=='X' or board[r][col]=='@':\n",
    "            r = -1\n",
    "        else:\n",
    "            return False\n",
    "    #check down\n",
    "    r = row\n",
    "    while r < len(board):\n",
    "        if board[r][col]=='.': \n",
    "            r += 1\n",
    "        elif board[r][col]=='X' or board[r][col]=='@':\n",
    "            r = len(board)\n",
    "        else:\n",
    "            return False\n",
    "    return True\n",
    "\n"
   ]
  },
  {
   "cell_type": "code",
   "execution_count": 73,
   "metadata": {},
   "outputs": [],
   "source": [
    "#check if you can see a pichu from a given spot\n",
    "def super_valid_spot(board, row, col):\n",
    "    max_c = len(board[row])\n",
    "    max_r = len(board)\n",
    "    #check left\n",
    "    c = col\n",
    "    while c >= 0:\n",
    "        if board[row][c]=='.':\n",
    "            c += -1\n",
    "        elif board[row][c]=='X' or board[row][c]=='@':\n",
    "            c = -1\n",
    "        else:\n",
    "            return False\n",
    "    #check right\n",
    "    c = col\n",
    "    while c < max_c:\n",
    "        if board[row][c]=='.': \n",
    "            c += 1\n",
    "        elif board[row][c]=='X' or board[row][c]=='@':\n",
    "            c = len(board[row])\n",
    "        else:\n",
    "            return False\n",
    "    #check up\n",
    "    r = row\n",
    "    while r >= 0:\n",
    "        if board[r][col]=='.': \n",
    "            r += -1\n",
    "        elif board[r][col]=='X' or board[r][col]=='@':\n",
    "            r = -1\n",
    "        else:\n",
    "            return False\n",
    "    #check down\n",
    "    r = row\n",
    "    while r < max_r:\n",
    "        if board[r][col]=='.': \n",
    "            r += 1\n",
    "        elif board[r][col]=='X' or board[r][col]=='@':\n",
    "            r = len(board)\n",
    "        else:\n",
    "            return False\n",
    "    #check up and to the left\n",
    "    c = col\n",
    "    r = row\n",
    "    while c >= 0 and r >= 0:\n",
    "        if board[r][c]=='.':\n",
    "            c += -1\n",
    "            r += -1\n",
    "        elif board[r][c]=='X' or board[r][c]=='@':\n",
    "            c = -1\n",
    "        else:\n",
    "            return False\n",
    "    #check up and to the right\n",
    "    c = col\n",
    "    r = row\n",
    "    while c < max_c and r >= 0:\n",
    "        if board[r][c]=='.':\n",
    "            c += 1\n",
    "            r += -1\n",
    "        elif board[r][c]=='X' or board[r][c]=='@':\n",
    "            r = -1\n",
    "        else:\n",
    "            return False\n",
    "    #check down and to the left\n",
    "    c = col\n",
    "    r = row\n",
    "    while c >= 0 and r < max_r:\n",
    "        if board[r][c]=='.':\n",
    "            c += -1\n",
    "            r += 1\n",
    "        elif board[r][c]=='X' or board[r][c]=='@':\n",
    "            c = -1\n",
    "        else:\n",
    "            return False\n",
    "    #check down and to the right\n",
    "    c = col\n",
    "    r = row\n",
    "    while c < max_c and r < max_r:\n",
    "        if board[r][c]=='.':\n",
    "            c += 1\n",
    "            r += 1\n",
    "        elif board[r][c]=='X' or board[r][c]=='@':\n",
    "            r = len(board)\n",
    "        else:\n",
    "            return False\n",
    "    return True"
   ]
  },
  {
   "cell_type": "code",
   "execution_count": 74,
   "metadata": {},
   "outputs": [],
   "source": [
    "# check if board is a goal state\n",
    "def is_goal(board):\n",
    "    return count_pichus(board) == K "
   ]
  },
  {
   "cell_type": "code",
   "execution_count": 75,
   "metadata": {},
   "outputs": [],
   "source": [
    "def is_super_goal(board, i):\n",
    "    return count_pichus(board) == i"
   ]
  },
  {
   "cell_type": "code",
   "execution_count": 76,
   "metadata": {},
   "outputs": [],
   "source": [
    "def standard_search(initial_board):\n",
    "    fringe = [initial_board]\n",
    "    while len(fringe) > 0:\n",
    "        for s in successors(fringe.pop()):\n",
    "            if is_goal(s):\n",
    "                return(s)\n",
    "            fringe.append(s)\n",
    "    return None"
   ]
  },
  {
   "cell_type": "code",
   "execution_count": 77,
   "metadata": {},
   "outputs": [],
   "source": [
    "def super_search(initial_board, i):\n",
    "    fringe = [initial_board]\n",
    "    while len(fringe) > 0:\n",
    "        for s in super_successors(fringe.pop()):\n",
    "            if is_super_goal(s, i):\n",
    "                return(s)\n",
    "            fringe.append(s)\n",
    "    return None"
   ]
  },
  {
   "cell_type": "code",
   "execution_count": 78,
   "metadata": {},
   "outputs": [],
   "source": [
    "# Solve!\n",
    "def solve(initial_board):\n",
    "    i = K\n",
    "    if i > 0:\n",
    "        return standard_search(initial_board)\n",
    "    elif i == 0:\n",
    "        i = 2\n",
    "        while super_search(initial_board, i):\n",
    "            i += 1\n",
    "        i -= 1\n",
    "        return super_search(initial_board, i)\n",
    "    else:\n",
    "        return \"K must be greater than or equal to 0\""
   ]
  },
  {
   "cell_type": "code",
   "execution_count": 56,
   "metadata": {},
   "outputs": [],
   "source": [
    "start_map = parse_map('map.txt')"
   ]
  },
  {
   "cell_type": "code",
   "execution_count": 33,
   "metadata": {},
   "outputs": [
    {
     "output_type": "execute_result",
     "data": {
      "text/plain": "[['.', '.', '.', '.', 'X', 'X', 'X'],\n ['.', 'X', 'X', 'X', '.', '.', '.'],\n ['.', 'p', '.', '.', 'X', '.', '.'],\n ['.', 'X', '.', 'X', '.', '.', '.'],\n ['.', 'X', '.', 'X', '.', 'X', '.'],\n ['p', 'X', '.', 'X', '@', 'X', '.']]"
     },
     "metadata": {},
     "execution_count": 33
    }
   ],
   "source": [
    "super_map = add_pichu(start_map, 2, 1)\n",
    "super_map"
   ]
  },
  {
   "cell_type": "code",
   "execution_count": 89,
   "metadata": {
    "tags": []
   },
   "outputs": [
    {
     "output_type": "stream",
     "name": "stdout",
     "text": "CPU times: user 2 µs, sys: 1e+03 ns, total: 3 µs\nWall time: 4.05 µs\n"
    },
    {
     "output_type": "execute_result",
     "data": {
      "text/plain": "[['.', 'p', '.', '.', 'X', 'X', 'X'],\n ['.', 'X', 'X', 'X', '.', '.', '.'],\n ['.', '.', '.', 'p', 'X', 'p', '.'],\n ['.', 'X', '.', 'X', '.', '.', '.'],\n ['.', 'X', 'p', 'X', '.', 'X', 'p'],\n ['p', 'X', '.', '.', 'p', 'X', '@']]"
     },
     "metadata": {},
     "execution_count": 89
    }
   ],
   "source": [
    "K = 0\n",
    "%time\n",
    "solve(start_map)"
   ]
  },
  {
   "cell_type": "code",
   "execution_count": null,
   "metadata": {},
   "outputs": [],
   "source": []
  }
 ],
 "metadata": {
  "kernelspec": {
   "display_name": "Python 3.7.7 64-bit ('AI_Class': conda)",
   "language": "python",
   "name": "python_defaultSpec_1600215519217"
  },
  "language_info": {
   "codemirror_mode": {
    "name": "ipython",
    "version": 3
   },
   "file_extension": ".py",
   "mimetype": "text/x-python",
   "name": "python",
   "nbconvert_exporter": "python",
   "pygments_lexer": "ipython3",
   "version": "3.7.7-final"
  }
 },
 "nbformat": 4,
 "nbformat_minor": 4
}